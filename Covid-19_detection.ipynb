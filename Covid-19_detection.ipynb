{
 "cells": [
  {
   "cell_type": "code",
   "execution_count": 1,
   "metadata": {},
   "outputs": [],
   "source": [
    "import time\n",
    "import numpy as np\n",
    "import pandas as pd\n",
    "import seaborn as sns\n",
    "from sklearn.svm import SVC\n",
    "from matplotlib import pyplot as plt\n",
    "from sklearn.ensemble import VotingClassifier\n",
    "from sklearn.tree import DecisionTreeClassifier\n",
    "pd.pandas.set_option('display.max_columns', None)\n",
    "from sklearn.neighbors import KNeighborsClassifier\n",
    "from sklearn.linear_model import LogisticRegression\n",
    "from sklearn.inspection import permutation_importance\n",
    "from sklearn.model_selection import train_test_split, cross_val_score\n",
    "from sklearn.metrics import accuracy_score, f1_score, recall_score, r2_score, confusion_matrix, precision_score"
   ]
  },
  {
   "cell_type": "code",
   "execution_count": 2,
   "metadata": {},
   "outputs": [
    {
     "name": "stderr",
     "output_type": "stream",
     "text": [
      "C:\\Users\\sunil\\.conda\\envs\\pil\\lib\\site-packages\\IPython\\core\\interactiveshell.py:3072: DtypeWarning: Columns (1,2,3,4,5) have mixed types.Specify dtype option on import or set low_memory=False.\n",
      "  interactivity=interactivity, compiler=compiler, result=result)\n"
     ]
    }
   ],
   "source": [
    "data_set = pd.read_csv('Covid-19_Data.csv.csv')"
   ]
  },
  {
   "cell_type": "code",
   "execution_count": 3,
   "metadata": {},
   "outputs": [
    {
     "data": {
      "text/html": [
       "<div>\n",
       "<style scoped>\n",
       "    .dataframe tbody tr th:only-of-type {\n",
       "        vertical-align: middle;\n",
       "    }\n",
       "\n",
       "    .dataframe tbody tr th {\n",
       "        vertical-align: top;\n",
       "    }\n",
       "\n",
       "    .dataframe thead th {\n",
       "        text-align: right;\n",
       "    }\n",
       "</style>\n",
       "<table border=\"1\" class=\"dataframe\">\n",
       "  <thead>\n",
       "    <tr style=\"text-align: right;\">\n",
       "      <th></th>\n",
       "      <th>test_date</th>\n",
       "      <th>cough</th>\n",
       "      <th>fever</th>\n",
       "      <th>sore_throat</th>\n",
       "      <th>shortness_of_breath</th>\n",
       "      <th>head_ache</th>\n",
       "      <th>corona_result</th>\n",
       "      <th>age_60_and_above</th>\n",
       "      <th>gender</th>\n",
       "      <th>test_indication</th>\n",
       "    </tr>\n",
       "  </thead>\n",
       "  <tbody>\n",
       "    <tr>\n",
       "      <th>0</th>\n",
       "      <td>2020-04-30</td>\n",
       "      <td>0</td>\n",
       "      <td>0</td>\n",
       "      <td>0</td>\n",
       "      <td>0</td>\n",
       "      <td>0</td>\n",
       "      <td>negative</td>\n",
       "      <td>None</td>\n",
       "      <td>female</td>\n",
       "      <td>Other</td>\n",
       "    </tr>\n",
       "    <tr>\n",
       "      <th>1</th>\n",
       "      <td>2020-04-30</td>\n",
       "      <td>1</td>\n",
       "      <td>0</td>\n",
       "      <td>0</td>\n",
       "      <td>0</td>\n",
       "      <td>0</td>\n",
       "      <td>negative</td>\n",
       "      <td>None</td>\n",
       "      <td>female</td>\n",
       "      <td>Other</td>\n",
       "    </tr>\n",
       "    <tr>\n",
       "      <th>2</th>\n",
       "      <td>2020-04-30</td>\n",
       "      <td>0</td>\n",
       "      <td>1</td>\n",
       "      <td>0</td>\n",
       "      <td>0</td>\n",
       "      <td>0</td>\n",
       "      <td>negative</td>\n",
       "      <td>None</td>\n",
       "      <td>male</td>\n",
       "      <td>Other</td>\n",
       "    </tr>\n",
       "    <tr>\n",
       "      <th>3</th>\n",
       "      <td>2020-04-30</td>\n",
       "      <td>1</td>\n",
       "      <td>0</td>\n",
       "      <td>0</td>\n",
       "      <td>0</td>\n",
       "      <td>0</td>\n",
       "      <td>negative</td>\n",
       "      <td>None</td>\n",
       "      <td>female</td>\n",
       "      <td>Other</td>\n",
       "    </tr>\n",
       "    <tr>\n",
       "      <th>4</th>\n",
       "      <td>2020-04-30</td>\n",
       "      <td>1</td>\n",
       "      <td>0</td>\n",
       "      <td>0</td>\n",
       "      <td>0</td>\n",
       "      <td>0</td>\n",
       "      <td>negative</td>\n",
       "      <td>None</td>\n",
       "      <td>male</td>\n",
       "      <td>Other</td>\n",
       "    </tr>\n",
       "  </tbody>\n",
       "</table>\n",
       "</div>"
      ],
      "text/plain": [
       "    test_date cough fever sore_throat shortness_of_breath head_ache  \\\n",
       "0  2020-04-30     0     0           0                   0         0   \n",
       "1  2020-04-30     1     0           0                   0         0   \n",
       "2  2020-04-30     0     1           0                   0         0   \n",
       "3  2020-04-30     1     0           0                   0         0   \n",
       "4  2020-04-30     1     0           0                   0         0   \n",
       "\n",
       "  corona_result age_60_and_above  gender test_indication  \n",
       "0      negative             None  female           Other  \n",
       "1      negative             None  female           Other  \n",
       "2      negative             None    male           Other  \n",
       "3      negative             None  female           Other  \n",
       "4      negative             None    male           Other  "
      ]
     },
     "execution_count": 3,
     "metadata": {},
     "output_type": "execute_result"
    }
   ],
   "source": [
    "data_set.head()"
   ]
  },
  {
   "cell_type": "markdown",
   "metadata": {},
   "source": [
    "# Data Preprocessing"
   ]
  },
  {
   "cell_type": "code",
   "execution_count": 4,
   "metadata": {},
   "outputs": [],
   "source": [
    "data_set.drop('test_date', inplace=True, axis=1)"
   ]
  },
  {
   "cell_type": "code",
   "execution_count": 5,
   "metadata": {},
   "outputs": [
    {
     "data": {
      "text/plain": [
       "array([0, 1, '0', '1', 'None'], dtype=object)"
      ]
     },
     "execution_count": 5,
     "metadata": {},
     "output_type": "execute_result"
    }
   ],
   "source": [
    "data_set['cough'].unique()"
   ]
  },
  {
   "cell_type": "code",
   "execution_count": 6,
   "metadata": {},
   "outputs": [],
   "source": [
    "data_set = data_set[data_set['cough']!='None']\n",
    "data_set = data_set[data_set['fever']!='None']"
   ]
  },
  {
   "cell_type": "code",
   "execution_count": 7,
   "metadata": {},
   "outputs": [],
   "source": [
    "data_set.replace(['1', '0'], [1, 0], inplace=True)"
   ]
  },
  {
   "cell_type": "code",
   "execution_count": 8,
   "metadata": {},
   "outputs": [
    {
     "data": {
      "text/plain": [
       "array(['negative', 'other', 'positive'], dtype=object)"
      ]
     },
     "execution_count": 8,
     "metadata": {},
     "output_type": "execute_result"
    }
   ],
   "source": [
    "np.unique(data_set['corona_result'])"
   ]
  },
  {
   "cell_type": "code",
   "execution_count": 9,
   "metadata": {},
   "outputs": [],
   "source": [
    "# lets drop other columns and focus more on negative and positive results.\n",
    "data_set = data_set[data_set['corona_result']!='other']"
   ]
  },
  {
   "cell_type": "code",
   "execution_count": 10,
   "metadata": {},
   "outputs": [
    {
     "data": {
      "text/plain": [
       "array(['negative', 'positive'], dtype=object)"
      ]
     },
     "execution_count": 10,
     "metadata": {},
     "output_type": "execute_result"
    }
   ],
   "source": [
    "np.unique(data_set['corona_result'])"
   ]
  },
  {
   "cell_type": "code",
   "execution_count": 11,
   "metadata": {},
   "outputs": [],
   "source": [
    "data_set['corona_result'].replace(['negative', 'positive'], [0, 1], inplace=True)"
   ]
  },
  {
   "cell_type": "code",
   "execution_count": 12,
   "metadata": {},
   "outputs": [],
   "source": [
    "np.unique(data_set['age_60_and_above'])\n",
    "# lets drop None columns and focus more on No and Yes results.\n",
    "data_set = data_set[data_set['age_60_and_above']!='None']"
   ]
  },
  {
   "cell_type": "code",
   "execution_count": 13,
   "metadata": {},
   "outputs": [],
   "source": [
    "data_set['age_60_and_above'].replace(['No', 'Yes'], [0, 1], inplace=True)"
   ]
  },
  {
   "cell_type": "code",
   "execution_count": 14,
   "metadata": {},
   "outputs": [],
   "source": [
    "np.unique(data_set['gender'])\n",
    "data_set = data_set[data_set['gender']!='None']"
   ]
  },
  {
   "cell_type": "code",
   "execution_count": 15,
   "metadata": {},
   "outputs": [],
   "source": [
    "data_set['gender'].replace(['female', 'male'], [0, 1], inplace=True)"
   ]
  },
  {
   "cell_type": "code",
   "execution_count": 16,
   "metadata": {},
   "outputs": [
    {
     "data": {
      "text/plain": [
       "array(['Abroad', 'Contact with confirmed', 'Other'], dtype=object)"
      ]
     },
     "execution_count": 16,
     "metadata": {},
     "output_type": "execute_result"
    }
   ],
   "source": [
    "np.unique(data_set['test_indication'])"
   ]
  },
  {
   "cell_type": "code",
   "execution_count": 17,
   "metadata": {},
   "outputs": [],
   "source": [
    "dummies = pd.get_dummies(data_set['test_indication'])\n",
    "data_set.drop('test_indication', inplace=True, axis=1)\n",
    "data_set = pd.concat([data_set, dummies], axis=1)"
   ]
  },
  {
   "cell_type": "code",
   "execution_count": 18,
   "metadata": {},
   "outputs": [
    {
     "data": {
      "text/html": [
       "<div>\n",
       "<style scoped>\n",
       "    .dataframe tbody tr th:only-of-type {\n",
       "        vertical-align: middle;\n",
       "    }\n",
       "\n",
       "    .dataframe tbody tr th {\n",
       "        vertical-align: top;\n",
       "    }\n",
       "\n",
       "    .dataframe thead th {\n",
       "        text-align: right;\n",
       "    }\n",
       "</style>\n",
       "<table border=\"1\" class=\"dataframe\">\n",
       "  <thead>\n",
       "    <tr style=\"text-align: right;\">\n",
       "      <th></th>\n",
       "      <th>cough</th>\n",
       "      <th>fever</th>\n",
       "      <th>sore_throat</th>\n",
       "      <th>shortness_of_breath</th>\n",
       "      <th>head_ache</th>\n",
       "      <th>corona_result</th>\n",
       "      <th>age_60_and_above</th>\n",
       "      <th>gender</th>\n",
       "      <th>Abroad</th>\n",
       "      <th>Contact with confirmed</th>\n",
       "      <th>Other</th>\n",
       "    </tr>\n",
       "  </thead>\n",
       "  <tbody>\n",
       "    <tr>\n",
       "      <th>122808</th>\n",
       "      <td>1</td>\n",
       "      <td>0</td>\n",
       "      <td>0</td>\n",
       "      <td>0</td>\n",
       "      <td>0</td>\n",
       "      <td>0</td>\n",
       "      <td>1</td>\n",
       "      <td>1</td>\n",
       "      <td>0</td>\n",
       "      <td>0</td>\n",
       "      <td>1</td>\n",
       "    </tr>\n",
       "    <tr>\n",
       "      <th>122809</th>\n",
       "      <td>1</td>\n",
       "      <td>0</td>\n",
       "      <td>0</td>\n",
       "      <td>0</td>\n",
       "      <td>0</td>\n",
       "      <td>1</td>\n",
       "      <td>0</td>\n",
       "      <td>0</td>\n",
       "      <td>0</td>\n",
       "      <td>0</td>\n",
       "      <td>1</td>\n",
       "    </tr>\n",
       "    <tr>\n",
       "      <th>122810</th>\n",
       "      <td>0</td>\n",
       "      <td>0</td>\n",
       "      <td>0</td>\n",
       "      <td>0</td>\n",
       "      <td>0</td>\n",
       "      <td>0</td>\n",
       "      <td>0</td>\n",
       "      <td>0</td>\n",
       "      <td>0</td>\n",
       "      <td>0</td>\n",
       "      <td>1</td>\n",
       "    </tr>\n",
       "    <tr>\n",
       "      <th>122811</th>\n",
       "      <td>0</td>\n",
       "      <td>1</td>\n",
       "      <td>0</td>\n",
       "      <td>0</td>\n",
       "      <td>0</td>\n",
       "      <td>0</td>\n",
       "      <td>0</td>\n",
       "      <td>0</td>\n",
       "      <td>1</td>\n",
       "      <td>0</td>\n",
       "      <td>0</td>\n",
       "    </tr>\n",
       "    <tr>\n",
       "      <th>122812</th>\n",
       "      <td>1</td>\n",
       "      <td>0</td>\n",
       "      <td>0</td>\n",
       "      <td>0</td>\n",
       "      <td>0</td>\n",
       "      <td>0</td>\n",
       "      <td>1</td>\n",
       "      <td>0</td>\n",
       "      <td>0</td>\n",
       "      <td>0</td>\n",
       "      <td>1</td>\n",
       "    </tr>\n",
       "  </tbody>\n",
       "</table>\n",
       "</div>"
      ],
      "text/plain": [
       "        cough  fever  sore_throat  shortness_of_breath  head_ache  \\\n",
       "122808      1      0            0                    0          0   \n",
       "122809      1      0            0                    0          0   \n",
       "122810      0      0            0                    0          0   \n",
       "122811      0      1            0                    0          0   \n",
       "122812      1      0            0                    0          0   \n",
       "\n",
       "        corona_result  age_60_and_above  gender  Abroad  \\\n",
       "122808              0                 1       1       0   \n",
       "122809              1                 0       0       0   \n",
       "122810              0                 0       0       0   \n",
       "122811              0                 0       0       1   \n",
       "122812              0                 1       0       0   \n",
       "\n",
       "        Contact with confirmed  Other  \n",
       "122808                       0      1  \n",
       "122809                       0      1  \n",
       "122810                       0      1  \n",
       "122811                       0      0  \n",
       "122812                       0      1  "
      ]
     },
     "execution_count": 18,
     "metadata": {},
     "output_type": "execute_result"
    }
   ],
   "source": [
    "data_set.head()"
   ]
  },
  {
   "cell_type": "markdown",
   "metadata": {},
   "source": [
    "# Data Visualization"
   ]
  },
  {
   "cell_type": "code",
   "execution_count": 19,
   "metadata": {},
   "outputs": [
    {
     "data": {
      "image/png": "[encoded data removed]",
      "text/plain": [
       "<Figure size 720x576 with 1 Axes>"
      ]
     },
     "metadata": {
      "needs_background": "light"
     },
     "output_type": "display_data"
    }
   ],
   "source": [
    "fig, ax = plt.subplots(figsize=(10, 8))\n",
    "ax.bar(data_set['corona_result'].unique(), data_set['corona_result'].value_counts())\n",
    "ax.set_xlabel('Corona Result')\n",
    "ax.set_ylabel('Count')\n",
    "ax.set_title('Distribution of Corona Results')\n",
    "plt.show()"
   ]
  },
  {
   "cell_type": "code",
   "execution_count": 20,
   "metadata": {},
   "outputs": [],
   "source": [
    "feature_count = []\n",
    "for unique_characteristic in data_set:\n",
    "    col_sum = sum(data_set[unique_characteristic].values)\n",
    "    feature_count.append(col_sum)"
   ]
  },
  {
   "cell_type": "code",
   "execution_count": 21,
   "metadata": {},
   "outputs": [],
   "source": [
    "feature_count = [sum(data_set[unique_characteristic].values) for unique_characteristic in data_set]"
   ]
  },
  {
   "cell_type": "code",
   "execution_count": 22,
   "metadata": {},
   "outputs": [
    {
     "data": {
      "text/plain": [
       "[24851, 12661, 1473, 1061, 2075, 10626, 23701, 69153, 14534, 7402, 114358]"
      ]
     },
     "execution_count": 22,
     "metadata": {},
     "output_type": "execute_result"
    }
   ],
   "source": [
    "feature_count"
   ]
  },
  {
   "cell_type": "code",
   "execution_count": 23,
   "metadata": {},
   "outputs": [
    {
     "data": {
      "image/png": "[encoded data removed]",
      "text/plain": [
       "<Figure size 720x576 with 1 Axes>"
      ]
     },
     "metadata": {
      "needs_background": "light"
     },
     "output_type": "display_data"
    }
   ],
   "source": [
    "#feature_count = data_set.nunique()\n",
    "\n",
    "# create a bar plot using Matplotlib\n",
    "fig, ax = plt.subplots(figsize=(10, 8))\n",
    "ax.bar(data_set.columns, feature_count)\n",
    "ax.set_xlabel('Feature')\n",
    "ax.set_ylabel('Count')\n",
    "ax.set_title('Number of Unique Values per Feature')\n",
    "\n",
    "# add text annotations to the bars\n",
    "# rotate x-axis tick labels\n",
    "plt.xticks(rotation=70)\n",
    "\n",
    "plt.show()"
   ]
  },
  {
   "cell_type": "code",
   "execution_count": 24,
   "metadata": {},
   "outputs": [
    {
     "data": {
      "image/png": "[encoded data removed]",
      "text/plain": [
       "<Figure size 1440x720 with 1 Axes>"
      ]
     },
     "metadata": {
      "needs_background": "light"
     },
     "output_type": "display_data"
    }
   ],
   "source": [
    "plt.figure(figsize = (20 ,10))\n",
    "count_plots = sns.countplot(x=\"variable\", hue=\"value\", data=pd.melt(data_set))\n",
    "plt.setp(count_plots.get_xticklabels(), rotation=70)\n",
    "for p in count_plots.patches:\n",
    "        count_plots.annotate(int(p.get_height()), (p.get_x(), p.get_height()+500), horizontalalignment = \"center\")\n",
    "plt.show()"
   ]
  },
  {
   "cell_type": "code",
   "execution_count": 25,
   "metadata": {},
   "outputs": [
    {
     "data": {
      "image/png": "[encoded data removed]",
      "text/plain": [
       "<Figure size 720x720 with 2 Axes>"
      ]
     },
     "metadata": {
      "needs_background": "light"
     },
     "output_type": "display_data"
    }
   ],
   "source": [
    "sns.heatmap(data_set.corr(),annot=True,linewidths=0.4, annot_kws={\"size\": 12}) \n",
    "fig=plt.gcf()\n",
    "fig.set_size_inches(10,10)\n",
    "plt.show()"
   ]
  },
  {
   "cell_type": "markdown",
   "metadata": {},
   "source": [
    "# Model Training"
   ]
  },
  {
   "cell_type": "code",
   "execution_count": 26,
   "metadata": {},
   "outputs": [
    {
     "data": {
      "text/html": [
       "<div>\n",
       "<style scoped>\n",
       "    .dataframe tbody tr th:only-of-type {\n",
       "        vertical-align: middle;\n",
       "    }\n",
       "\n",
       "    .dataframe tbody tr th {\n",
       "        vertical-align: top;\n",
       "    }\n",
       "\n",
       "    .dataframe thead th {\n",
       "        text-align: right;\n",
       "    }\n",
       "</style>\n",
       "<table border=\"1\" class=\"dataframe\">\n",
       "  <thead>\n",
       "    <tr style=\"text-align: right;\">\n",
       "      <th></th>\n",
       "      <th>cough</th>\n",
       "      <th>fever</th>\n",
       "      <th>sore_throat</th>\n",
       "      <th>shortness_of_breath</th>\n",
       "      <th>head_ache</th>\n",
       "      <th>corona_result</th>\n",
       "      <th>age_60_and_above</th>\n",
       "      <th>gender</th>\n",
       "      <th>Abroad</th>\n",
       "      <th>Contact with confirmed</th>\n",
       "      <th>Other</th>\n",
       "    </tr>\n",
       "  </thead>\n",
       "  <tbody>\n",
       "    <tr>\n",
       "      <th>count</th>\n",
       "      <td>136294.000000</td>\n",
       "      <td>136294.000000</td>\n",
       "      <td>136294.000000</td>\n",
       "      <td>136294.000000</td>\n",
       "      <td>136294.000000</td>\n",
       "      <td>136294.000000</td>\n",
       "      <td>136294.000000</td>\n",
       "      <td>136294.000000</td>\n",
       "      <td>136294.000000</td>\n",
       "      <td>136294.000000</td>\n",
       "      <td>136294.000000</td>\n",
       "    </tr>\n",
       "    <tr>\n",
       "      <th>mean</th>\n",
       "      <td>0.182334</td>\n",
       "      <td>0.092895</td>\n",
       "      <td>0.010808</td>\n",
       "      <td>0.007785</td>\n",
       "      <td>0.015224</td>\n",
       "      <td>0.077964</td>\n",
       "      <td>0.173896</td>\n",
       "      <td>0.507381</td>\n",
       "      <td>0.106637</td>\n",
       "      <td>0.054309</td>\n",
       "      <td>0.839054</td>\n",
       "    </tr>\n",
       "    <tr>\n",
       "      <th>std</th>\n",
       "      <td>0.386121</td>\n",
       "      <td>0.290286</td>\n",
       "      <td>0.103396</td>\n",
       "      <td>0.087887</td>\n",
       "      <td>0.122445</td>\n",
       "      <td>0.268116</td>\n",
       "      <td>0.379022</td>\n",
       "      <td>0.499947</td>\n",
       "      <td>0.308652</td>\n",
       "      <td>0.226627</td>\n",
       "      <td>0.367483</td>\n",
       "    </tr>\n",
       "    <tr>\n",
       "      <th>min</th>\n",
       "      <td>0.000000</td>\n",
       "      <td>0.000000</td>\n",
       "      <td>0.000000</td>\n",
       "      <td>0.000000</td>\n",
       "      <td>0.000000</td>\n",
       "      <td>0.000000</td>\n",
       "      <td>0.000000</td>\n",
       "      <td>0.000000</td>\n",
       "      <td>0.000000</td>\n",
       "      <td>0.000000</td>\n",
       "      <td>0.000000</td>\n",
       "    </tr>\n",
       "    <tr>\n",
       "      <th>25%</th>\n",
       "      <td>0.000000</td>\n",
       "      <td>0.000000</td>\n",
       "      <td>0.000000</td>\n",
       "      <td>0.000000</td>\n",
       "      <td>0.000000</td>\n",
       "      <td>0.000000</td>\n",
       "      <td>0.000000</td>\n",
       "      <td>0.000000</td>\n",
       "      <td>0.000000</td>\n",
       "      <td>0.000000</td>\n",
       "      <td>1.000000</td>\n",
       "    </tr>\n",
       "    <tr>\n",
       "      <th>50%</th>\n",
       "      <td>0.000000</td>\n",
       "      <td>0.000000</td>\n",
       "      <td>0.000000</td>\n",
       "      <td>0.000000</td>\n",
       "      <td>0.000000</td>\n",
       "      <td>0.000000</td>\n",
       "      <td>0.000000</td>\n",
       "      <td>1.000000</td>\n",
       "      <td>0.000000</td>\n",
       "      <td>0.000000</td>\n",
       "      <td>1.000000</td>\n",
       "    </tr>\n",
       "    <tr>\n",
       "      <th>75%</th>\n",
       "      <td>0.000000</td>\n",
       "      <td>0.000000</td>\n",
       "      <td>0.000000</td>\n",
       "      <td>0.000000</td>\n",
       "      <td>0.000000</td>\n",
       "      <td>0.000000</td>\n",
       "      <td>0.000000</td>\n",
       "      <td>1.000000</td>\n",
       "      <td>0.000000</td>\n",
       "      <td>0.000000</td>\n",
       "      <td>1.000000</td>\n",
       "    </tr>\n",
       "    <tr>\n",
       "      <th>max</th>\n",
       "      <td>1.000000</td>\n",
       "      <td>1.000000</td>\n",
       "      <td>1.000000</td>\n",
       "      <td>1.000000</td>\n",
       "      <td>1.000000</td>\n",
       "      <td>1.000000</td>\n",
       "      <td>1.000000</td>\n",
       "      <td>1.000000</td>\n",
       "      <td>1.000000</td>\n",
       "      <td>1.000000</td>\n",
       "      <td>1.000000</td>\n",
       "    </tr>\n",
       "  </tbody>\n",
       "</table>\n",
       "</div>"
      ],
      "text/plain": [
       "               cough          fever    sore_throat  shortness_of_breath  \\\n",
       "count  136294.000000  136294.000000  136294.000000        136294.000000   \n",
       "mean        0.182334       0.092895       0.010808             0.007785   \n",
       "std         0.386121       0.290286       0.103396             0.087887   \n",
       "min         0.000000       0.000000       0.000000             0.000000   \n",
       "25%         0.000000       0.000000       0.000000             0.000000   \n",
       "50%         0.000000       0.000000       0.000000             0.000000   \n",
       "75%         0.000000       0.000000       0.000000             0.000000   \n",
       "max         1.000000       1.000000       1.000000             1.000000   \n",
       "\n",
       "           head_ache  corona_result  age_60_and_above         gender  \\\n",
       "count  136294.000000  136294.000000     136294.000000  136294.000000   \n",
       "mean        0.015224       0.077964          0.173896       0.507381   \n",
       "std         0.122445       0.268116          0.379022       0.499947   \n",
       "min         0.000000       0.000000          0.000000       0.000000   \n",
       "25%         0.000000       0.000000          0.000000       0.000000   \n",
       "50%         0.000000       0.000000          0.000000       1.000000   \n",
       "75%         0.000000       0.000000          0.000000       1.000000   \n",
       "max         1.000000       1.000000          1.000000       1.000000   \n",
       "\n",
       "              Abroad  Contact with confirmed          Other  \n",
       "count  136294.000000           136294.000000  136294.000000  \n",
       "mean        0.106637                0.054309       0.839054  \n",
       "std         0.308652                0.226627       0.367483  \n",
       "min         0.000000                0.000000       0.000000  \n",
       "25%         0.000000                0.000000       1.000000  \n",
       "50%         0.000000                0.000000       1.000000  \n",
       "75%         0.000000                0.000000       1.000000  \n",
       "max         1.000000                1.000000       1.000000  "
      ]
     },
     "execution_count": 26,
     "metadata": {},
     "output_type": "execute_result"
    }
   ],
   "source": [
    "data_set.describe()"
   ]
  },
  {
   "cell_type": "code",
   "execution_count": 27,
   "metadata": {},
   "outputs": [
    {
     "data": {
      "text/plain": [
       "cough                     0\n",
       "fever                     0\n",
       "sore_throat               0\n",
       "shortness_of_breath       0\n",
       "head_ache                 0\n",
       "corona_result             0\n",
       "age_60_and_above          0\n",
       "gender                    0\n",
       "Abroad                    0\n",
       "Contact with confirmed    0\n",
       "Other                     0\n",
       "dtype: int64"
      ]
     },
     "execution_count": 27,
     "metadata": {},
     "output_type": "execute_result"
    }
   ],
   "source": [
    "data_set.isnull().sum()"
   ]
  },
  {
   "cell_type": "code",
   "execution_count": 28,
   "metadata": {},
   "outputs": [
    {
     "name": "stdout",
     "output_type": "stream",
     "text": [
      "<class 'pandas.core.frame.DataFrame'>\n",
      "Int64Index: 136294 entries, 122808 to 265120\n",
      "Data columns (total 11 columns):\n",
      " #   Column                  Non-Null Count   Dtype\n",
      "---  ------                  --------------   -----\n",
      " 0   cough                   136294 non-null  int64\n",
      " 1   fever                   136294 non-null  int64\n",
      " 2   sore_throat             136294 non-null  int64\n",
      " 3   shortness_of_breath     136294 non-null  int64\n",
      " 4   head_ache               136294 non-null  int64\n",
      " 5   corona_result           136294 non-null  int64\n",
      " 6   age_60_and_above        136294 non-null  int64\n",
      " 7   gender                  136294 non-null  int64\n",
      " 8   Abroad                  136294 non-null  uint8\n",
      " 9   Contact with confirmed  136294 non-null  uint8\n",
      " 10  Other                   136294 non-null  uint8\n",
      "dtypes: int64(8), uint8(3)\n",
      "memory usage: 9.7 MB\n"
     ]
    }
   ],
   "source": [
    "data_set.info()"
   ]
  },
  {
   "cell_type": "code",
   "execution_count": 29,
   "metadata": {},
   "outputs": [],
   "source": [
    "y = data_set['corona_result']"
   ]
  },
  {
   "cell_type": "code",
   "execution_count": 30,
   "metadata": {},
   "outputs": [],
   "source": [
    "data_set.drop('corona_result', axis=1, inplace=True)"
   ]
  },
  {
   "cell_type": "code",
   "execution_count": 31,
   "metadata": {},
   "outputs": [],
   "source": [
    "time_taken = list()"
   ]
  },
  {
   "cell_type": "code",
   "execution_count": 32,
   "metadata": {},
   "outputs": [
    {
     "name": "stdout",
     "output_type": "stream",
     "text": [
      "X_train Shape :  (95405, 10)\n",
      "X_test Shape :  (40889, 10)\n",
      "y_train Shape :  (95405,)\n",
      "y_test Shape :  (40889,)\n",
      "DecisionTree scores.mean:  0.9579512325481468\n",
      "DecisionTree r2_score:  0.41485465591589266\n"
     ]
    }
   ],
   "source": [
    "# Split data into training and testing sets\n",
    "X_train, X_test, y_train, y_test = train_test_split(data_set, y, test_size=0.3, random_state=123, stratify=y)\n",
    "start = time.time()\n",
    "print(\"X_train Shape : \", X_train.shape) \n",
    "print(\"X_test Shape : \", X_test.shape) \n",
    "print(\"y_train Shape : \", y_train.shape) \n",
    "print(\"y_test Shape : \", y_test.shape)\n",
    "\n",
    "# DecisionTree Algorithm\n",
    "DecisionTree = DecisionTreeClassifier(random_state=0) \n",
    "scores = cross_val_score(DecisionTree, data_set, y, cv=5) \n",
    "\n",
    "\n",
    "print('DecisionTree scores.mean: ', scores.mean()) \n",
    "DecisionTree = DecisionTree.fit(X_train, y_train) \n",
    "decission_pred = DecisionTree.predict(X_test) \n",
    "print('DecisionTree r2_score: ', r2_score(y_test, decission_pred)) \n",
    "end = time.time()\n",
    "time_taken.append(end-start)"
   ]
  },
  {
   "cell_type": "markdown",
   "metadata": {},
   "source": [
    "# Hyper-parameter tunning"
   ]
  },
  {
   "cell_type": "code",
   "execution_count": 33,
   "metadata": {},
   "outputs": [],
   "source": [
    "# Parameter tuning to maximum depth to increase accuracy"
   ]
  },
  {
   "cell_type": "code",
   "execution_count": 34,
   "metadata": {},
   "outputs": [
    {
     "name": "stdout",
     "output_type": "stream",
     "text": [
      "The Training Accuracy for max_depth 1 is: 0.9582831088517373\n",
      "The Validation Accuracy for max_depth 1 is: 0.957934896916041\n",
      "\n",
      "The Training Accuracy for max_depth 2 is: 0.9582831088517373\n",
      "The Validation Accuracy for max_depth 2 is: 0.957934896916041\n",
      "\n",
      "The Training Accuracy for max_depth 3 is: 0.9582831088517373\n",
      "The Validation Accuracy for max_depth 3 is: 0.957934896916041\n",
      "\n",
      "The Training Accuracy for max_depth 4 is: 0.9582831088517373\n",
      "The Validation Accuracy for max_depth 4 is: 0.957934896916041\n",
      "\n",
      "The Training Accuracy for max_depth 5 is: 0.9582831088517373\n",
      "The Validation Accuracy for max_depth 5 is: 0.957934896916041\n",
      "\n",
      "The Training Accuracy for max_depth 6 is: 0.9582831088517373\n",
      "The Validation Accuracy for max_depth 6 is: 0.957934896916041\n",
      "\n",
      "The Training Accuracy for max_depth 7 is: 0.9582831088517373\n",
      "The Validation Accuracy for max_depth 7 is: 0.957934896916041\n",
      "\n",
      "The Training Accuracy for max_depth 8 is: 0.9582831088517373\n",
      "The Validation Accuracy for max_depth 8 is: 0.957934896916041\n",
      "\n",
      "The Training Accuracy for max_depth 9 is: 0.9582831088517373\n",
      "The Validation Accuracy for max_depth 9 is: 0.957934896916041\n",
      "\n"
     ]
    }
   ],
   "source": [
    "training_accuracy = list()\n",
    "validation_accuracy = list()\n",
    "for max_d in range(1,10):\n",
    "    model = DecisionTreeClassifier(max_depth=max_d, random_state=42)\n",
    "    model.fit(X_train, y_train)\n",
    "    training_accuracy.append(DecisionTree.score(X_train, y_train))\n",
    "    validation_accuracy.append(DecisionTree.score(X_test,y_test))\n",
    "    print('The Training Accuracy for max_depth {} is:'.format(max_d), DecisionTree.score(X_train, y_train))\n",
    "    print('The Validation Accuracy for max_depth {} is:'.format(max_d), DecisionTree.score(X_test,y_test))\n",
    "    print('')"
   ]
  },
  {
   "cell_type": "code",
   "execution_count": 35,
   "metadata": {},
   "outputs": [
    {
     "data": {
      "text/plain": [
       "<matplotlib.legend.Legend at 0x28d0b1e1c88>"
      ]
     },
     "execution_count": 35,
     "metadata": {},
     "output_type": "execute_result"
    },
    {
     "data": {
      "image/png": "[encoded data removed]",
      "text/plain": [
       "<Figure size 432x288 with 1 Axes>"
      ]
     },
     "metadata": {
      "needs_background": "light"
     },
     "output_type": "display_data"
    }
   ],
   "source": [
    "plt.plot(list(range(1,10)), training_accuracy )\n",
    "plt.plot(list(range(1,10)), validation_accuracy)\n",
    "plt.xlabel('Max-Depth')\n",
    "plt.ylabel('Accuracy')\n",
    "plt.legend(['Training accuracy', 'Validation accuracy'])"
   ]
  },
  {
   "cell_type": "markdown",
   "metadata": {},
   "source": [
    "## Taking any depth would result in same accuracy."
   ]
  },
  {
   "cell_type": "code",
   "execution_count": 36,
   "metadata": {},
   "outputs": [
    {
     "name": "stdout",
     "output_type": "stream",
     "text": [
      "The Training Accuracy for max_leaf_nodes 2 is: 0.9582831088517373\n",
      "The Validation Accuracy for max_leaf_nodes 2 is: 0.957934896916041\n",
      "\n",
      "The Training Accuracy for max_leaf_nodes 3 is: 0.9582831088517373\n",
      "The Validation Accuracy for max_leaf_nodes 3 is: 0.957934896916041\n",
      "\n",
      "The Training Accuracy for max_leaf_nodes 4 is: 0.9582831088517373\n",
      "The Validation Accuracy for max_leaf_nodes 4 is: 0.957934896916041\n",
      "\n",
      "The Training Accuracy for max_leaf_nodes 5 is: 0.9582831088517373\n",
      "The Validation Accuracy for max_leaf_nodes 5 is: 0.957934896916041\n",
      "\n",
      "The Training Accuracy for max_leaf_nodes 6 is: 0.9582831088517373\n",
      "The Validation Accuracy for max_leaf_nodes 6 is: 0.957934896916041\n",
      "\n",
      "The Training Accuracy for max_leaf_nodes 7 is: 0.9582831088517373\n",
      "The Validation Accuracy for max_leaf_nodes 7 is: 0.957934896916041\n",
      "\n",
      "The Training Accuracy for max_leaf_nodes 8 is: 0.9582831088517373\n",
      "The Validation Accuracy for max_leaf_nodes 8 is: 0.957934896916041\n",
      "\n",
      "The Training Accuracy for max_leaf_nodes 9 is: 0.9582831088517373\n",
      "The Validation Accuracy for max_leaf_nodes 9 is: 0.957934896916041\n",
      "\n"
     ]
    }
   ],
   "source": [
    "training_accuracy = list()\n",
    "validation_accuracy = list()\n",
    "for max_f in range(2,10):\n",
    "    model = DecisionTreeClassifier(max_depth=5, max_leaf_nodes= max_f , random_state=42)\n",
    "    model.fit(X_train, y_train)\n",
    "    training_accuracy.append(DecisionTree.score(X_train, y_train))\n",
    "    validation_accuracy.append(DecisionTree.score(X_test,y_test))\n",
    "    print('The Training Accuracy for max_leaf_nodes {} is:'.format(max_f), DecisionTree.score(X_train, y_train))\n",
    "    print('The Validation Accuracy for max_leaf_nodes {} is:'.format(max_f), DecisionTree.score(X_test,y_test))\n",
    "    print('')"
   ]
  },
  {
   "cell_type": "code",
   "execution_count": 37,
   "metadata": {},
   "outputs": [],
   "source": [
    "from scipy.stats import randint\n",
    "from sklearn.model_selection import RandomizedSearchCV\n",
    "from sklearn.ensemble import RandomForestClassifier"
   ]
  },
  {
   "cell_type": "code",
   "execution_count": 38,
   "metadata": {},
   "outputs": [],
   "source": [
    "param_dist = {\"max_depth\": list(range(1,8)),\n",
    "             \"max_features\": randint(0,8),\n",
    "             \"min_samples_leaf\": randint(1,8),\n",
    "             \"criterion\": [\"gini\", 'entropy']}\n",
    "tree_cv = RandomizedSearchCV(DecisionTree, param_dist, cv=5)"
   ]
  },
  {
   "cell_type": "code",
   "execution_count": 39,
   "metadata": {},
   "outputs": [
    {
     "data": {
      "text/plain": [
       "RandomizedSearchCV(cv=5, estimator=DecisionTreeClassifier(random_state=0),\n",
       "                   param_distributions={'criterion': ['gini', 'entropy'],\n",
       "                                        'max_depth': [1, 2, 3, 4, 5, 6, 7],\n",
       "                                        'max_features': <scipy.stats._distn_infrastructure.rv_frozen object at 0x0000028D0B211978>,\n",
       "                                        'min_samples_leaf': <scipy.stats._distn_infrastructure.rv_frozen object at 0x0000028D0AA0C390>})"
      ]
     },
     "execution_count": 39,
     "metadata": {},
     "output_type": "execute_result"
    }
   ],
   "source": [
    "tree_cv.fit(data_set, y)"
   ]
  },
  {
   "cell_type": "code",
   "execution_count": 40,
   "metadata": {},
   "outputs": [
    {
     "data": {
      "text/plain": [
       "{'criterion': 'entropy',\n",
       " 'max_depth': 6,\n",
       " 'max_features': 6,\n",
       " 'min_samples_leaf': 5}"
      ]
     },
     "execution_count": 40,
     "metadata": {},
     "output_type": "execute_result"
    }
   ],
   "source": [
    "tree_cv.best_params_"
   ]
  },
  {
   "cell_type": "code",
   "execution_count": 41,
   "metadata": {},
   "outputs": [],
   "source": [
    "previous_score = tree_cv.best_score_"
   ]
  },
  {
   "cell_type": "code",
   "execution_count": 42,
   "metadata": {},
   "outputs": [
    {
     "data": {
      "text/html": [
       "<div>\n",
       "<style scoped>\n",
       "    .dataframe tbody tr th:only-of-type {\n",
       "        vertical-align: middle;\n",
       "    }\n",
       "\n",
       "    .dataframe tbody tr th {\n",
       "        vertical-align: top;\n",
       "    }\n",
       "\n",
       "    .dataframe thead th {\n",
       "        text-align: right;\n",
       "    }\n",
       "</style>\n",
       "<table border=\"1\" class=\"dataframe\">\n",
       "  <thead>\n",
       "    <tr style=\"text-align: right;\">\n",
       "      <th></th>\n",
       "      <th>cough</th>\n",
       "      <th>fever</th>\n",
       "      <th>sore_throat</th>\n",
       "      <th>shortness_of_breath</th>\n",
       "      <th>head_ache</th>\n",
       "      <th>age_60_and_above</th>\n",
       "      <th>gender</th>\n",
       "      <th>Abroad</th>\n",
       "      <th>Contact with confirmed</th>\n",
       "      <th>Other</th>\n",
       "    </tr>\n",
       "  </thead>\n",
       "  <tbody>\n",
       "    <tr>\n",
       "      <th>cough</th>\n",
       "      <td>1.000000</td>\n",
       "      <td>0.444898</td>\n",
       "      <td>0.125416</td>\n",
       "      <td>0.116872</td>\n",
       "      <td>0.135117</td>\n",
       "      <td>-0.044193</td>\n",
       "      <td>0.020147</td>\n",
       "      <td>0.526316</td>\n",
       "      <td>0.209147</td>\n",
       "      <td>-0.571040</td>\n",
       "    </tr>\n",
       "    <tr>\n",
       "      <th>fever</th>\n",
       "      <td>0.444898</td>\n",
       "      <td>1.000000</td>\n",
       "      <td>0.143779</td>\n",
       "      <td>0.145360</td>\n",
       "      <td>0.200694</td>\n",
       "      <td>-0.002714</td>\n",
       "      <td>0.037465</td>\n",
       "      <td>0.274075</td>\n",
       "      <td>0.198677</td>\n",
       "      <td>-0.352723</td>\n",
       "    </tr>\n",
       "    <tr>\n",
       "      <th>sore_throat</th>\n",
       "      <td>0.125416</td>\n",
       "      <td>0.143779</td>\n",
       "      <td>1.000000</td>\n",
       "      <td>0.200670</td>\n",
       "      <td>0.337043</td>\n",
       "      <td>-0.013321</td>\n",
       "      <td>-0.009988</td>\n",
       "      <td>0.011708</td>\n",
       "      <td>0.204154</td>\n",
       "      <td>-0.135736</td>\n",
       "    </tr>\n",
       "    <tr>\n",
       "      <th>shortness_of_breath</th>\n",
       "      <td>0.116872</td>\n",
       "      <td>0.145360</td>\n",
       "      <td>0.200670</td>\n",
       "      <td>1.000000</td>\n",
       "      <td>0.218756</td>\n",
       "      <td>0.013325</td>\n",
       "      <td>0.004286</td>\n",
       "      <td>0.012133</td>\n",
       "      <td>0.148594</td>\n",
       "      <td>-0.101829</td>\n",
       "    </tr>\n",
       "    <tr>\n",
       "      <th>head_ache</th>\n",
       "      <td>0.135117</td>\n",
       "      <td>0.200694</td>\n",
       "      <td>0.337043</td>\n",
       "      <td>0.218756</td>\n",
       "      <td>1.000000</td>\n",
       "      <td>-0.016100</td>\n",
       "      <td>-0.000098</td>\n",
       "      <td>0.007713</td>\n",
       "      <td>0.252326</td>\n",
       "      <td>-0.162088</td>\n",
       "    </tr>\n",
       "    <tr>\n",
       "      <th>age_60_and_above</th>\n",
       "      <td>-0.044193</td>\n",
       "      <td>-0.002714</td>\n",
       "      <td>-0.013321</td>\n",
       "      <td>0.013325</td>\n",
       "      <td>-0.016100</td>\n",
       "      <td>1.000000</td>\n",
       "      <td>-0.035756</td>\n",
       "      <td>-0.056221</td>\n",
       "      <td>-0.024359</td>\n",
       "      <td>0.062243</td>\n",
       "    </tr>\n",
       "    <tr>\n",
       "      <th>gender</th>\n",
       "      <td>0.020147</td>\n",
       "      <td>0.037465</td>\n",
       "      <td>-0.009988</td>\n",
       "      <td>0.004286</td>\n",
       "      <td>-0.000098</td>\n",
       "      <td>-0.035756</td>\n",
       "      <td>1.000000</td>\n",
       "      <td>0.017770</td>\n",
       "      <td>0.006176</td>\n",
       "      <td>-0.018734</td>\n",
       "    </tr>\n",
       "    <tr>\n",
       "      <th>Abroad</th>\n",
       "      <td>0.526316</td>\n",
       "      <td>0.274075</td>\n",
       "      <td>0.011708</td>\n",
       "      <td>0.012133</td>\n",
       "      <td>0.007713</td>\n",
       "      <td>-0.056221</td>\n",
       "      <td>0.017770</td>\n",
       "      <td>1.000000</td>\n",
       "      <td>-0.082795</td>\n",
       "      <td>-0.788851</td>\n",
       "    </tr>\n",
       "    <tr>\n",
       "      <th>Contact with confirmed</th>\n",
       "      <td>0.209147</td>\n",
       "      <td>0.198677</td>\n",
       "      <td>0.204154</td>\n",
       "      <td>0.148594</td>\n",
       "      <td>0.252326</td>\n",
       "      <td>-0.024359</td>\n",
       "      <td>0.006176</td>\n",
       "      <td>-0.082795</td>\n",
       "      <td>1.000000</td>\n",
       "      <td>-0.547162</td>\n",
       "    </tr>\n",
       "    <tr>\n",
       "      <th>Other</th>\n",
       "      <td>-0.571040</td>\n",
       "      <td>-0.352723</td>\n",
       "      <td>-0.135736</td>\n",
       "      <td>-0.101829</td>\n",
       "      <td>-0.162088</td>\n",
       "      <td>0.062243</td>\n",
       "      <td>-0.018734</td>\n",
       "      <td>-0.788851</td>\n",
       "      <td>-0.547162</td>\n",
       "      <td>1.000000</td>\n",
       "    </tr>\n",
       "  </tbody>\n",
       "</table>\n",
       "</div>"
      ],
      "text/plain": [
       "                           cough     fever  sore_throat  shortness_of_breath  \\\n",
       "cough                   1.000000  0.444898     0.125416             0.116872   \n",
       "fever                   0.444898  1.000000     0.143779             0.145360   \n",
       "sore_throat             0.125416  0.143779     1.000000             0.200670   \n",
       "shortness_of_breath     0.116872  0.145360     0.200670             1.000000   \n",
       "head_ache               0.135117  0.200694     0.337043             0.218756   \n",
       "age_60_and_above       -0.044193 -0.002714    -0.013321             0.013325   \n",
       "gender                  0.020147  0.037465    -0.009988             0.004286   \n",
       "Abroad                  0.526316  0.274075     0.011708             0.012133   \n",
       "Contact with confirmed  0.209147  0.198677     0.204154             0.148594   \n",
       "Other                  -0.571040 -0.352723    -0.135736            -0.101829   \n",
       "\n",
       "                        head_ache  age_60_and_above    gender    Abroad  \\\n",
       "cough                    0.135117         -0.044193  0.020147  0.526316   \n",
       "fever                    0.200694         -0.002714  0.037465  0.274075   \n",
       "sore_throat              0.337043         -0.013321 -0.009988  0.011708   \n",
       "shortness_of_breath      0.218756          0.013325  0.004286  0.012133   \n",
       "head_ache                1.000000         -0.016100 -0.000098  0.007713   \n",
       "age_60_and_above        -0.016100          1.000000 -0.035756 -0.056221   \n",
       "gender                  -0.000098         -0.035756  1.000000  0.017770   \n",
       "Abroad                   0.007713         -0.056221  0.017770  1.000000   \n",
       "Contact with confirmed   0.252326         -0.024359  0.006176 -0.082795   \n",
       "Other                   -0.162088          0.062243 -0.018734 -0.788851   \n",
       "\n",
       "                        Contact with confirmed     Other  \n",
       "cough                                 0.209147 -0.571040  \n",
       "fever                                 0.198677 -0.352723  \n",
       "sore_throat                           0.204154 -0.135736  \n",
       "shortness_of_breath                   0.148594 -0.101829  \n",
       "head_ache                             0.252326 -0.162088  \n",
       "age_60_and_above                     -0.024359  0.062243  \n",
       "gender                                0.006176 -0.018734  \n",
       "Abroad                               -0.082795 -0.788851  \n",
       "Contact with confirmed                1.000000 -0.547162  \n",
       "Other                                -0.547162  1.000000  "
      ]
     },
     "execution_count": 42,
     "metadata": {},
     "output_type": "execute_result"
    }
   ],
   "source": [
    "# lets drop negatively effecting columns \n",
    "data_set.corr()"
   ]
  },
  {
   "cell_type": "code",
   "execution_count": 43,
   "metadata": {},
   "outputs": [],
   "source": [
    "data_set.drop('Other', axis=1, inplace=True)"
   ]
  },
  {
   "cell_type": "code",
   "execution_count": 44,
   "metadata": {},
   "outputs": [
    {
     "name": "stderr",
     "output_type": "stream",
     "text": [
      "C:\\Users\\sunil\\AppData\\Roaming\\Python\\Python36\\site-packages\\sklearn\\model_selection\\_validation.py:619: FitFailedWarning: Estimator fit failed. The score on this train-test partition for these parameters will be set to nan. Details: \n",
      "Traceback (most recent call last):\n",
      "  File \"C:\\Users\\sunil\\AppData\\Roaming\\Python\\Python36\\site-packages\\sklearn\\model_selection\\_validation.py\", line 598, in _fit_and_score\n",
      "    estimator.fit(X_train, y_train, **fit_params)\n",
      "  File \"C:\\Users\\sunil\\AppData\\Roaming\\Python\\Python36\\site-packages\\sklearn\\tree\\_classes.py\", line 907, in fit\n",
      "    X_idx_sorted=X_idx_sorted)\n",
      "  File \"C:\\Users\\sunil\\AppData\\Roaming\\Python\\Python36\\site-packages\\sklearn\\tree\\_classes.py\", line 289, in fit\n",
      "    raise ValueError(\"max_features must be in (0, n_features]\")\n",
      "ValueError: max_features must be in (0, n_features]\n",
      "\n",
      "  FitFailedWarning)\n",
      "C:\\Users\\sunil\\AppData\\Roaming\\Python\\Python36\\site-packages\\sklearn\\model_selection\\_validation.py:619: FitFailedWarning: Estimator fit failed. The score on this train-test partition for these parameters will be set to nan. Details: \n",
      "Traceback (most recent call last):\n",
      "  File \"C:\\Users\\sunil\\AppData\\Roaming\\Python\\Python36\\site-packages\\sklearn\\model_selection\\_validation.py\", line 598, in _fit_and_score\n",
      "    estimator.fit(X_train, y_train, **fit_params)\n",
      "  File \"C:\\Users\\sunil\\AppData\\Roaming\\Python\\Python36\\site-packages\\sklearn\\tree\\_classes.py\", line 907, in fit\n",
      "    X_idx_sorted=X_idx_sorted)\n",
      "  File \"C:\\Users\\sunil\\AppData\\Roaming\\Python\\Python36\\site-packages\\sklearn\\tree\\_classes.py\", line 289, in fit\n",
      "    raise ValueError(\"max_features must be in (0, n_features]\")\n",
      "ValueError: max_features must be in (0, n_features]\n",
      "\n",
      "  FitFailedWarning)\n",
      "C:\\Users\\sunil\\AppData\\Roaming\\Python\\Python36\\site-packages\\sklearn\\model_selection\\_validation.py:619: FitFailedWarning: Estimator fit failed. The score on this train-test partition for these parameters will be set to nan. Details: \n",
      "Traceback (most recent call last):\n",
      "  File \"C:\\Users\\sunil\\AppData\\Roaming\\Python\\Python36\\site-packages\\sklearn\\model_selection\\_validation.py\", line 598, in _fit_and_score\n",
      "    estimator.fit(X_train, y_train, **fit_params)\n",
      "  File \"C:\\Users\\sunil\\AppData\\Roaming\\Python\\Python36\\site-packages\\sklearn\\tree\\_classes.py\", line 907, in fit\n",
      "    X_idx_sorted=X_idx_sorted)\n",
      "  File \"C:\\Users\\sunil\\AppData\\Roaming\\Python\\Python36\\site-packages\\sklearn\\tree\\_classes.py\", line 289, in fit\n",
      "    raise ValueError(\"max_features must be in (0, n_features]\")\n",
      "ValueError: max_features must be in (0, n_features]\n",
      "\n",
      "  FitFailedWarning)\n",
      "C:\\Users\\sunil\\AppData\\Roaming\\Python\\Python36\\site-packages\\sklearn\\model_selection\\_validation.py:619: FitFailedWarning: Estimator fit failed. The score on this train-test partition for these parameters will be set to nan. Details: \n",
      "Traceback (most recent call last):\n",
      "  File \"C:\\Users\\sunil\\AppData\\Roaming\\Python\\Python36\\site-packages\\sklearn\\model_selection\\_validation.py\", line 598, in _fit_and_score\n",
      "    estimator.fit(X_train, y_train, **fit_params)\n",
      "  File \"C:\\Users\\sunil\\AppData\\Roaming\\Python\\Python36\\site-packages\\sklearn\\tree\\_classes.py\", line 907, in fit\n",
      "    X_idx_sorted=X_idx_sorted)\n",
      "  File \"C:\\Users\\sunil\\AppData\\Roaming\\Python\\Python36\\site-packages\\sklearn\\tree\\_classes.py\", line 289, in fit\n",
      "    raise ValueError(\"max_features must be in (0, n_features]\")\n",
      "ValueError: max_features must be in (0, n_features]\n",
      "\n",
      "  FitFailedWarning)\n",
      "C:\\Users\\sunil\\AppData\\Roaming\\Python\\Python36\\site-packages\\sklearn\\model_selection\\_validation.py:619: FitFailedWarning: Estimator fit failed. The score on this train-test partition for these parameters will be set to nan. Details: \n",
      "Traceback (most recent call last):\n",
      "  File \"C:\\Users\\sunil\\AppData\\Roaming\\Python\\Python36\\site-packages\\sklearn\\model_selection\\_validation.py\", line 598, in _fit_and_score\n",
      "    estimator.fit(X_train, y_train, **fit_params)\n",
      "  File \"C:\\Users\\sunil\\AppData\\Roaming\\Python\\Python36\\site-packages\\sklearn\\tree\\_classes.py\", line 907, in fit\n",
      "    X_idx_sorted=X_idx_sorted)\n",
      "  File \"C:\\Users\\sunil\\AppData\\Roaming\\Python\\Python36\\site-packages\\sklearn\\tree\\_classes.py\", line 289, in fit\n",
      "    raise ValueError(\"max_features must be in (0, n_features]\")\n",
      "ValueError: max_features must be in (0, n_features]\n",
      "\n",
      "  FitFailedWarning)\n",
      "C:\\Users\\sunil\\AppData\\Roaming\\Python\\Python36\\site-packages\\sklearn\\model_selection\\_validation.py:619: FitFailedWarning: Estimator fit failed. The score on this train-test partition for these parameters will be set to nan. Details: \n",
      "Traceback (most recent call last):\n",
      "  File \"C:\\Users\\sunil\\AppData\\Roaming\\Python\\Python36\\site-packages\\sklearn\\model_selection\\_validation.py\", line 598, in _fit_and_score\n",
      "    estimator.fit(X_train, y_train, **fit_params)\n",
      "  File \"C:\\Users\\sunil\\AppData\\Roaming\\Python\\Python36\\site-packages\\sklearn\\tree\\_classes.py\", line 907, in fit\n",
      "    X_idx_sorted=X_idx_sorted)\n",
      "  File \"C:\\Users\\sunil\\AppData\\Roaming\\Python\\Python36\\site-packages\\sklearn\\tree\\_classes.py\", line 289, in fit\n",
      "    raise ValueError(\"max_features must be in (0, n_features]\")\n",
      "ValueError: max_features must be in (0, n_features]\n",
      "\n",
      "  FitFailedWarning)\n",
      "C:\\Users\\sunil\\AppData\\Roaming\\Python\\Python36\\site-packages\\sklearn\\model_selection\\_validation.py:619: FitFailedWarning: Estimator fit failed. The score on this train-test partition for these parameters will be set to nan. Details: \n",
      "Traceback (most recent call last):\n",
      "  File \"C:\\Users\\sunil\\AppData\\Roaming\\Python\\Python36\\site-packages\\sklearn\\model_selection\\_validation.py\", line 598, in _fit_and_score\n",
      "    estimator.fit(X_train, y_train, **fit_params)\n",
      "  File \"C:\\Users\\sunil\\AppData\\Roaming\\Python\\Python36\\site-packages\\sklearn\\tree\\_classes.py\", line 907, in fit\n",
      "    X_idx_sorted=X_idx_sorted)\n",
      "  File \"C:\\Users\\sunil\\AppData\\Roaming\\Python\\Python36\\site-packages\\sklearn\\tree\\_classes.py\", line 289, in fit\n",
      "    raise ValueError(\"max_features must be in (0, n_features]\")\n",
      "ValueError: max_features must be in (0, n_features]\n",
      "\n",
      "  FitFailedWarning)\n",
      "C:\\Users\\sunil\\AppData\\Roaming\\Python\\Python36\\site-packages\\sklearn\\model_selection\\_validation.py:619: FitFailedWarning: Estimator fit failed. The score on this train-test partition for these parameters will be set to nan. Details: \n",
      "Traceback (most recent call last):\n",
      "  File \"C:\\Users\\sunil\\AppData\\Roaming\\Python\\Python36\\site-packages\\sklearn\\model_selection\\_validation.py\", line 598, in _fit_and_score\n",
      "    estimator.fit(X_train, y_train, **fit_params)\n",
      "  File \"C:\\Users\\sunil\\AppData\\Roaming\\Python\\Python36\\site-packages\\sklearn\\tree\\_classes.py\", line 907, in fit\n",
      "    X_idx_sorted=X_idx_sorted)\n",
      "  File \"C:\\Users\\sunil\\AppData\\Roaming\\Python\\Python36\\site-packages\\sklearn\\tree\\_classes.py\", line 289, in fit\n",
      "    raise ValueError(\"max_features must be in (0, n_features]\")\n",
      "ValueError: max_features must be in (0, n_features]\n",
      "\n",
      "  FitFailedWarning)\n",
      "C:\\Users\\sunil\\AppData\\Roaming\\Python\\Python36\\site-packages\\sklearn\\model_selection\\_validation.py:619: FitFailedWarning: Estimator fit failed. The score on this train-test partition for these parameters will be set to nan. Details: \n",
      "Traceback (most recent call last):\n",
      "  File \"C:\\Users\\sunil\\AppData\\Roaming\\Python\\Python36\\site-packages\\sklearn\\model_selection\\_validation.py\", line 598, in _fit_and_score\n",
      "    estimator.fit(X_train, y_train, **fit_params)\n",
      "  File \"C:\\Users\\sunil\\AppData\\Roaming\\Python\\Python36\\site-packages\\sklearn\\tree\\_classes.py\", line 907, in fit\n",
      "    X_idx_sorted=X_idx_sorted)\n",
      "  File \"C:\\Users\\sunil\\AppData\\Roaming\\Python\\Python36\\site-packages\\sklearn\\tree\\_classes.py\", line 289, in fit\n",
      "    raise ValueError(\"max_features must be in (0, n_features]\")\n",
      "ValueError: max_features must be in (0, n_features]\n",
      "\n",
      "  FitFailedWarning)\n",
      "C:\\Users\\sunil\\AppData\\Roaming\\Python\\Python36\\site-packages\\sklearn\\model_selection\\_validation.py:619: FitFailedWarning: Estimator fit failed. The score on this train-test partition for these parameters will be set to nan. Details: \n",
      "Traceback (most recent call last):\n",
      "  File \"C:\\Users\\sunil\\AppData\\Roaming\\Python\\Python36\\site-packages\\sklearn\\model_selection\\_validation.py\", line 598, in _fit_and_score\n",
      "    estimator.fit(X_train, y_train, **fit_params)\n",
      "  File \"C:\\Users\\sunil\\AppData\\Roaming\\Python\\Python36\\site-packages\\sklearn\\tree\\_classes.py\", line 907, in fit\n",
      "    X_idx_sorted=X_idx_sorted)\n",
      "  File \"C:\\Users\\sunil\\AppData\\Roaming\\Python\\Python36\\site-packages\\sklearn\\tree\\_classes.py\", line 289, in fit\n",
      "    raise ValueError(\"max_features must be in (0, n_features]\")\n",
      "ValueError: max_features must be in (0, n_features]\n",
      "\n",
      "  FitFailedWarning)\n"
     ]
    },
    {
     "name": "stderr",
     "output_type": "stream",
     "text": [
      "C:\\Users\\sunil\\AppData\\Roaming\\Python\\Python36\\site-packages\\sklearn\\model_selection\\_search.py:925: UserWarning: One or more of the test scores are non-finite: [0.93385631        nan 0.95088564 0.93607206 0.94932285 0.95535391\n",
      " 0.94784808 0.94153086 0.95686534        nan]\n",
      "  category=UserWarning\n"
     ]
    },
    {
     "data": {
      "text/plain": [
       "RandomizedSearchCV(cv=5, estimator=DecisionTreeClassifier(random_state=0),\n",
       "                   param_distributions={'criterion': ['gini', 'entropy'],\n",
       "                                        'max_depth': [1, 2, 3, 4, 5, 6, 7],\n",
       "                                        'max_features': <scipy.stats._distn_infrastructure.rv_frozen object at 0x0000028D0B211978>,\n",
       "                                        'min_samples_leaf': <scipy.stats._distn_infrastructure.rv_frozen object at 0x0000028D0AA0C390>})"
      ]
     },
     "execution_count": 44,
     "metadata": {},
     "output_type": "execute_result"
    }
   ],
   "source": [
    "tree_cv = RandomizedSearchCV(DecisionTree, param_dist, cv=5)\n",
    "tree_cv.fit(data_set, y)"
   ]
  },
  {
   "cell_type": "code",
   "execution_count": 45,
   "metadata": {},
   "outputs": [],
   "source": [
    "current_score = tree_cv.best_score_"
   ]
  },
  {
   "cell_type": "code",
   "execution_count": 46,
   "metadata": {},
   "outputs": [
    {
     "name": "stdout",
     "output_type": "stream",
     "text": [
      "0.9568653405426332 0.9559335403554791\n"
     ]
    }
   ],
   "source": [
    "print(current_score, previous_score)"
   ]
  },
  {
   "cell_type": "code",
   "execution_count": 47,
   "metadata": {
    "scrolled": false
   },
   "outputs": [
    {
     "data": {
      "text/plain": [
       "<BarContainer object of 2 artists>"
      ]
     },
     "execution_count": 47,
     "metadata": {},
     "output_type": "execute_result"
    },
    {
     "data": {
      "image/png": "[encoded data removed]",
      "text/plain": [
       "<Figure size 576x360 with 1 Axes>"
      ]
     },
     "metadata": {
      "needs_background": "light"
     },
     "output_type": "display_data"
    }
   ],
   "source": [
    "plt.figure(figsize=(8,5))\n",
    "plt.bar(['Current score', 'Previous score'], [current_score, previous_score])"
   ]
  },
  {
   "cell_type": "markdown",
   "metadata": {},
   "source": [
    "### The decision tree model has reached a point where further parameter tuning does not improve its accuracy. To improve the accuracy of the model, we need to either add more relevant features to the dataset or increase the number of unique records to make the dataset more robust."
   ]
  },
  {
   "cell_type": "markdown",
   "metadata": {},
   "source": [
    "# Logistic Regression"
   ]
  },
  {
   "cell_type": "code",
   "execution_count": 48,
   "metadata": {},
   "outputs": [
    {
     "name": "stdout",
     "output_type": "stream",
     "text": [
      "X_train Shape :  (95405, 10)\n",
      "X_test Shape :  (40889, 10)\n",
      "y_train Shape :  (95405,)\n",
      "y_test Shape :  (40889,)\n",
      "LogisticRegression scores.mean:  0.9506875668178327\n",
      "LogisticRegression r2_score:  0.33967028321671366\n",
      "\n",
      "3.309509038925171\n"
     ]
    }
   ],
   "source": [
    "start = time.time()\n",
    "print(\"X_train Shape : \", X_train.shape) \n",
    "print(\"X_test Shape : \", X_test.shape) \n",
    "print(\"y_train Shape : \", y_train.shape) \n",
    "print(\"y_test Shape : \", y_test.shape)\n",
    "log = LogisticRegression()\n",
    "scores = cross_val_score(log, data_set, y, cv=5) \n",
    "print('LogisticRegression scores.mean: ', scores.mean()) \n",
    "log.fit(X_train, y_train) \n",
    "pred = log.predict(X_test) \n",
    "print('LogisticRegression r2_score: ', r2_score(y_test, pred))\n",
    "log_score = scores.mean()\n",
    "end = time.time()\n",
    "print(\"\\n\"+ str(end-start))\n",
    "time_taken.append(end-start)"
   ]
  },
  {
   "cell_type": "markdown",
   "metadata": {},
   "source": [
    "# K Nearest Neigbhours"
   ]
  },
  {
   "cell_type": "code",
   "execution_count": 49,
   "metadata": {},
   "outputs": [
    {
     "name": "stdout",
     "output_type": "stream",
     "text": [
      "X_train Shape :  (95405, 10)\n",
      "X_test Shape :  (40889, 10)\n",
      "y_train Shape :  (95405,)\n",
      "y_test Shape :  (40889,)\n",
      "KNeighborsClassifier scores.mean:  0.9518541257372345\n",
      "KNeighborsClassifier r2_score:  0.3651853418250324\n",
      "\n",
      "591.8124899864197\n"
     ]
    }
   ],
   "source": [
    "start = time.time()\n",
    "print(\"X_train Shape : \", X_train.shape) \n",
    "print(\"X_test Shape : \", X_test.shape) \n",
    "print(\"y_train Shape : \", y_train.shape) \n",
    "print(\"y_test Shape : \", y_test.shape)\n",
    "Knn = KNeighborsClassifier()\n",
    "scores = cross_val_score(Knn, data_set, y, cv=5) \n",
    "print('KNeighborsClassifier scores.mean: ', scores.mean()) \n",
    "Knn.fit(X_train, y_train) \n",
    "pred = Knn.predict(X_test) \n",
    "print('KNeighborsClassifier r2_score: ', r2_score(y_test, pred))\n",
    "knn_score = scores.mean()\n",
    "end = time.time()\n",
    "print(\"\\n\"+ str(end-start))\n",
    "time_taken.append(end-start)"
   ]
  },
  {
   "cell_type": "markdown",
   "metadata": {},
   "source": [
    "# Support Vector Classifier"
   ]
  },
  {
   "cell_type": "code",
   "execution_count": 50,
   "metadata": {},
   "outputs": [
    {
     "name": "stdout",
     "output_type": "stream",
     "text": [
      "X_train Shape :  (95405, 10)\n",
      "X_test Shape :  (40889, 10)\n",
      "y_train Shape :  (95405,)\n",
      "y_test Shape :  (40889,)\n",
      "SVC scores.mean:  0.9580466190043124\n",
      "SVC r2_score:  0.41859686451177935\n",
      "\n",
      "1236.0940997600555\n"
     ]
    }
   ],
   "source": [
    "start = time.time()\n",
    "print(\"X_train Shape : \", X_train.shape) \n",
    "print(\"X_test Shape : \", X_test.shape) \n",
    "print(\"y_train Shape : \", y_train.shape) \n",
    "print(\"y_test Shape : \", y_test.shape)\n",
    "svc = SVC()\n",
    "scores = cross_val_score(svc, data_set, y, cv=5) \n",
    "print('SVC scores.mean: ', scores.mean()) \n",
    "svc.fit(X_train, y_train) \n",
    "pred = svc.predict(X_test) \n",
    "print('SVC r2_score: ', r2_score(y_test, pred))\n",
    "svc_score = scores.mean()\n",
    "end = time.time()\n",
    "print(\"\\n\"+ str(end - start))\n",
    "time_taken.append(end-start)"
   ]
  },
  {
   "cell_type": "markdown",
   "metadata": {},
   "source": [
    "# VotingClassifier"
   ]
  },
  {
   "cell_type": "code",
   "execution_count": 51,
   "metadata": {},
   "outputs": [
    {
     "data": {
      "text/plain": [
       "VotingClassifier(estimators=[('tree', DecisionTreeClassifier(random_state=0)),\n",
       "                             ('log', LogisticRegression()),\n",
       "                             ('knn', KNeighborsClassifier()), ('SVC', SVC())])"
      ]
     },
     "execution_count": 51,
     "metadata": {},
     "output_type": "execute_result"
    }
   ],
   "source": [
    "vot_clf = VotingClassifier(estimators=[('tree', DecisionTree), ('log', log), ('knn', Knn), ('SVC', svc)], voting='hard')\n",
    "vot_clf.fit(data_set, y)"
   ]
  },
  {
   "cell_type": "code",
   "execution_count": 52,
   "metadata": {},
   "outputs": [],
   "source": [
    "vot_pred = vot_clf.predict(data_set)"
   ]
  },
  {
   "cell_type": "code",
   "execution_count": 53,
   "metadata": {},
   "outputs": [
    {
     "data": {
      "text/plain": [
       "0.958237339868226"
      ]
     },
     "execution_count": 53,
     "metadata": {},
     "output_type": "execute_result"
    }
   ],
   "source": [
    "vot_clf.score(data_set, y)"
   ]
  },
  {
   "cell_type": "code",
   "execution_count": 54,
   "metadata": {},
   "outputs": [
    {
     "name": "stderr",
     "output_type": "stream",
     "text": [
      "C:\\Users\\sunil\\.conda\\envs\\pil\\lib\\site-packages\\seaborn\\_decorators.py:43: FutureWarning: Pass the following variables as keyword args: x, y. From version 0.12, the only valid positional argument will be `data`, and passing other arguments without an explicit keyword will result in an error or misinterpretation.\n",
      "  FutureWarning\n"
     ]
    },
    {
     "data": {
      "image/png": "[encoded data removed]",
      "text/plain": [
       "<Figure size 648x360 with 1 Axes>"
      ]
     },
     "metadata": {},
     "output_type": "display_data"
    }
   ],
   "source": [
    "with sns.color_palette('muted'):\n",
    "    algothrim_name = ['Decission Tree', 'Logistic Regression', 'KNN', 'Support Vector Machine']\n",
    "    scores = [current_score, log_score, knn_score, svc_score]\n",
    "    sns.set(rc={'figure.figsize':(9,5)})\n",
    "    plt.xlabel(\"Algorithms\")\n",
    "    plt.ylabel(\"Accuracy score\")\n",
    "    plt.ylim(0.93, 1)\n",
    "    sns.barplot(algothrim_name, scores)"
   ]
  },
  {
   "cell_type": "code",
   "execution_count": 55,
   "metadata": {},
   "outputs": [
    {
     "name": "stderr",
     "output_type": "stream",
     "text": [
      "C:\\Users\\sunil\\.conda\\envs\\pil\\lib\\site-packages\\seaborn\\_decorators.py:43: FutureWarning: Pass the following variables as keyword args: x, y. From version 0.12, the only valid positional argument will be `data`, and passing other arguments without an explicit keyword will result in an error or misinterpretation.\n",
      "  FutureWarning\n"
     ]
    },
    {
     "data": {
      "image/png": "[encoded data removed]",
      "text/plain": [
       "<Figure size 648x648 with 1 Axes>"
      ]
     },
     "metadata": {},
     "output_type": "display_data"
    }
   ],
   "source": [
    "with sns.color_palette('muted'):\n",
    "    algothrim_name = ['Decission Tree', 'Logistic Regression', 'KNN', 'Support Vector Machine']\n",
    "    sns.set(rc={'figure.figsize':(9,9)})\n",
    "    plt.xlabel(\"Algorithms\")\n",
    "    plt.ylabel(\"Time taken in seconds\")\n",
    "    sns.barplot(algothrim_name, time_taken)"
   ]
  },
  {
   "cell_type": "markdown",
   "metadata": {},
   "source": [
    "# Evaluation metrics"
   ]
  },
  {
   "cell_type": "code",
   "execution_count": 56,
   "metadata": {},
   "outputs": [],
   "source": [
    "# lets consider Decision-tree beccause the time complexity and accuracy is more for that algorithm"
   ]
  },
  {
   "cell_type": "markdown",
   "metadata": {},
   "source": [
    "#### Confusion matrix"
   ]
  },
  {
   "cell_type": "code",
   "execution_count": 57,
   "metadata": {},
   "outputs": [],
   "source": [
    "con_mat = confusion_matrix(y_test, decission_pred)"
   ]
  },
  {
   "cell_type": "code",
   "execution_count": 69,
   "metadata": {},
   "outputs": [
    {
     "data": {
      "image/png": "[encoded data removed]",
      "text/plain": [
       "<Figure size 648x648 with 2 Axes>"
      ]
     },
     "metadata": {},
     "output_type": "display_data"
    }
   ],
   "source": [
    "matrix = sns.heatmap(con_mat, annot=True, fmt='.8g')"
   ]
  },
  {
   "cell_type": "markdown",
   "metadata": {},
   "source": [
    "<p>{0,0} False Negative <br>\n",
    "{0,1} False Positive <br>\n",
    "{1,0} True Negative <br>\n",
    "{1,1} True Positive <br>\n",
    "</p>"
   ]
  },
  {
   "cell_type": "code",
   "execution_count": 59,
   "metadata": {},
   "outputs": [
    {
     "data": {
      "text/plain": [
       "0.957934896916041"
      ]
     },
     "execution_count": 59,
     "metadata": {},
     "output_type": "execute_result"
    }
   ],
   "source": [
    "accuracy_score(decission_pred, y_test)"
   ]
  },
  {
   "cell_type": "markdown",
   "metadata": {},
   "source": [
    "In this example, the accuracy is nearly 95%; approximately 3.2 percent of records with Covid-19 are classed as healthy. By using this example, we are attempting to demonstrate that accuracy is not a good metric when the data set is uneven. In such cases, using accuracy might lead to a false interpretation of the findings."
   ]
  },
  {
   "cell_type": "markdown",
   "metadata": {},
   "source": [
    "We'll now look for accuracy (positive predictive value) in identifying data instances. The following is how precision is defined:"
   ]
  },
  {
   "cell_type": "code",
   "execution_count": 60,
   "metadata": {},
   "outputs": [
    {
     "data": {
      "text/plain": [
       "0.8213660245183888"
      ]
     },
     "execution_count": 60,
     "metadata": {},
     "output_type": "execute_result"
    }
   ],
   "source": [
    "precision_score(y_test, decission_pred)"
   ]
  },
  {
   "cell_type": "markdown",
   "metadata": {},
   "source": [
    "As a result, if FN approaches zero, the recal rate approaches one, indicating that the model is doing well."
   ]
  },
  {
   "cell_type": "code",
   "execution_count": 61,
   "metadata": {},
   "outputs": [
    {
     "data": {
      "text/plain": [
       "0.588456712672522"
      ]
     },
     "execution_count": 61,
     "metadata": {},
     "output_type": "execute_result"
    }
   ],
   "source": [
    "recall_score(y_test, decission_pred)"
   ]
  },
  {
   "cell_type": "markdown",
   "metadata": {},
   "source": [
    "Only when accuracy and recall are both 1 does the F1 Score become 1. Only when both accuracy and recall are good can the F1 score rise. The F1 score is a better metric than accuracy since it is the harmonic mean of precision and recall."
   ]
  },
  {
   "cell_type": "code",
   "execution_count": 62,
   "metadata": {},
   "outputs": [
    {
     "data": {
      "text/plain": [
       "0.6856725146198831"
      ]
     },
     "execution_count": 62,
     "metadata": {},
     "output_type": "execute_result"
    }
   ],
   "source": [
    "f1_score(y_test, decission_pred)"
   ]
  },
  {
   "cell_type": "markdown",
   "metadata": {},
   "source": [
    "# Feature Importance"
   ]
  },
  {
   "cell_type": "code",
   "execution_count": 70,
   "metadata": {},
   "outputs": [
    {
     "name": "stdout",
     "output_type": "stream",
     "text": [
      "Time taken to calculate the importances: 0.014 seconds\n"
     ]
    }
   ],
   "source": [
    "random_forest = RandomForestClassifier()\n",
    "random_forest.fit(data_set, y)\n",
    "start_time = time.time()\n",
    "importances = random_forest.feature_importances_\n",
    "std = np.std([tree.feature_importances_ for tree in random_forest.estimators_], axis=0)\n",
    "elapsed_time = time.time() - start_time\n",
    "\n",
    "print(f\"Time taken to calculate the importances: {elapsed_time:.3f} seconds\")"
   ]
  },
  {
   "cell_type": "code",
   "execution_count": 64,
   "metadata": {},
   "outputs": [
    {
     "data": {
      "image/png": "[encoded data removed]",
      "text/plain": [
       "<Figure size 648x648 with 1 Axes>"
      ]
     },
     "metadata": {},
     "output_type": "display_data"
    }
   ],
   "source": [
    "forest_importances = pd.Series(importances, index=data_set.columns)\n",
    "fig, ax = plt.subplots()\n",
    "forest_importances.plot.bar(yerr=std, ax=ax)\n",
    "ax.set_title(\"Feature importances using MDI\")\n",
    "ax.set_ylabel(\"Mean decrease in impurity\")\n",
    "fig.tight_layout()"
   ]
  },
  {
   "cell_type": "code",
   "execution_count": 65,
   "metadata": {},
   "outputs": [
    {
     "name": "stdout",
     "output_type": "stream",
     "text": [
      "Elapsed time to compute the importances: 37.539 seconds\n"
     ]
    }
   ],
   "source": [
    "start_time = time.time()\n",
    "result = permutation_importance(\n",
    "    random_forest, data_set, y, n_repeats=5, random_state=42, n_jobs=-1\n",
    ")\n",
    "elapsed_time = time.time() - start_time\n",
    "print(f\"Elapsed time to compute the importances: {elapsed_time:.3f} seconds\")\n",
    "\n",
    "forest_importances = pd.Series(result.importances_mean, index=data_set.columns)"
   ]
  },
  {
   "cell_type": "code",
   "execution_count": 66,
   "metadata": {},
   "outputs": [
    {
     "data": {
      "image/png": "[encoded data removed]",
      "text/plain": [
       "<Figure size 648x648 with 1 Axes>"
      ]
     },
     "metadata": {},
     "output_type": "display_data"
    }
   ],
   "source": [
    "fig, ax = plt.subplots()\n",
    "forest_importances.plot.bar(yerr=result.importances_std, ax=ax)\n",
    "ax.set_title(\"Feature importances using permutation on full model\")\n",
    "ax.set_ylabel(\"Mean accuracy decrease\")\n",
    "fig.tight_layout()\n",
    "plt.show()"
   ]
  },
  {
   "cell_type": "markdown",
   "metadata": {},
   "source": [
    "Observation reveals that traits such as `Contact With Confirmed`, `Headache`, and `Sore Throat` are more relevant than others."
   ]
  },
  {
   "cell_type": "markdown",
   "metadata": {},
   "source": [
    "# CONCLUSION \n",
    "The final objective is to create a machine learning model that effectively predicts COVID-19 using fewer features and tests. The study focuses on only nine key features and uses four distinct classification techniques, including support vector machine, K closest neighbors, logistic regression, and decision tree. The data was pre-processed before being utilized in the model. Among the strategies employed, support vector machine and decision trees yielded the best outcomes, with decision trees being preferable due to their lower time complexity. To improve accuracy, other methodologies such as clustering, association rules, and genetic algorithms could be utilized. However, given the limitations of this study, more complex and combined models are necessary to achieve greater accuracy in early COVID-19 prediction."
   ]
  },
  {
   "cell_type": "markdown",
   "metadata": {},
   "source": [
    "# REFERENCES\n",
    "-  Dong E, Du H, Gardner L. An interactive web-based dashboard to track COVID-19 in real \n",
    "time. The Lancet Infectious Diseases. Published online February 19, 2020. doi:10.1016/S1473-\n",
    "3099(20)30120-1\n",
    "-  Gozes O, Frid-Adar M, Greenspan H, et al. Rapid AI Development Cycle for the Coronavirus \n",
    "(COVID-19) Pandemic: Initial Results for Automated Detection & Patient Monitoring using \n",
    "Deep Learning CT Image Analysis. arXiv e-prints. 2020;2003:arXiv:2003.05037. Accessed May \n",
    "4, 2020. http://adsabs.harvard.edu/abs/2020arXiv200305037G\n",
    "- Dataset taken from :https://github.com/nshomron/covidpred/tree/master/data\n",
    "- Feature importance reference: https://scikit-learn.org/stable/auto_examples/ensemble/plot_forest_importances.html\n",
    "- Dataset for further resarch: https://www.kaggle.com/datasets/imdevskp/corona-virus-report"
   ]
  },
  {
   "cell_type": "code",
   "execution_count": null,
   "metadata": {},
   "outputs": [],
   "source": []
  }
 ],
 "metadata": {
  "kernelspec": {
   "display_name": "Python 3",
   "language": "python",
   "name": "python3"
  },
  "language_info": {
   "codemirror_mode": {
    "name": "ipython",
    "version": 3
   },
   "file_extension": ".py",
   "mimetype": "text/x-python",
   "name": "python",
   "nbconvert_exporter": "python",
   "pygments_lexer": "ipython3",
   "version": "3.7.9"
  }
 },
 "nbformat": 4,
 "nbformat_minor": 4
}
